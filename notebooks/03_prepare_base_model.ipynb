{
 "cells": [
  {
   "cell_type": "markdown",
   "metadata": {},
   "source": [
    "### Prepare base u-net model"
   ]
  },
  {
   "cell_type": "code",
   "execution_count": null,
   "metadata": {},
   "outputs": [
    {
     "name": "stdout",
     "output_type": "stream",
     "text": [
      "Working directory: /Users/thuang/Documents/Personal/code/microscopy-with-ml\n"
     ]
    }
   ],
   "source": [
    "import os\n",
    "from pathlib import Path\n",
    "\n",
    "import yaml\n",
    "from box import ConfigBox\n",
    "\n",
    "import torch\n",
    "\n",
    "WORKING_DIR = \"/Users/thuang/Documents/Personal/code/microscopy-with-ml\"\n",
    "os.chdir(WORKING_DIR)\n",
    "print(f\"Working directory: {os.getcwd()}\")\n",
    "\n",
    "DATA_ROOT_PATH = \"data\"\n"
   ]
  },
  {
   "cell_type": "code",
   "execution_count": 4,
   "metadata": {},
   "outputs": [
    {
     "data": {
      "text/plain": [
       "'artifacts/prepare_base_model/base_model.h5'"
      ]
     },
     "execution_count": 4,
     "metadata": {},
     "output_type": "execute_result"
    }
   ],
   "source": [
    "# Configs\n",
    "def read_yaml(path_to_yaml: Path) -> ConfigBox:\n",
    "    with open(path_to_yaml, 'r') as yaml_file:\n",
    "        content = yaml.safe_load(yaml_file)\n",
    "    return ConfigBox(content)\n",
    "\n",
    "config = read_yaml(Path('config/config.yaml'))\n",
    "config.prepare_base_model.base_model_path"
   ]
  },
  {
   "cell_type": "code",
   "execution_count": null,
   "metadata": {},
   "outputs": [],
   "source": [
    "class SegmentationModel(torch.nn.Module):\n",
    "    def __init__(self, config):\n",
    "        super(SegmentationModel, self).__init__()\n",
    "        self.config = config\n",
    "        self.base_model = torch.load(config.prepare_base_model.base_model_path)\n",
    "        self.segmentation_head = torch.load(config.prepare_base_model.segmentation_head_path)\n",
    "    \n",
    "    def forward(self, x):\n",
    "        x = self.base_model(x)\n",
    "        x = self.segmentation_head(x)\n",
    "        return x"
   ]
  }
 ],
 "metadata": {
  "kernelspec": {
   "display_name": "venv",
   "language": "python",
   "name": "python3"
  },
  "language_info": {
   "codemirror_mode": {
    "name": "ipython",
    "version": 3
   },
   "file_extension": ".py",
   "mimetype": "text/x-python",
   "name": "python",
   "nbconvert_exporter": "python",
   "pygments_lexer": "ipython3",
   "version": "3.11.6"
  }
 },
 "nbformat": 4,
 "nbformat_minor": 2
}
