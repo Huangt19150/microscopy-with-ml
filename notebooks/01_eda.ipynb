{
 "cells": [
  {
   "cell_type": "markdown",
   "metadata": {},
   "source": [
    "## EDA: in interations, too\n",
    "Can't know it all at a first glance."
   ]
  },
  {
   "cell_type": "code",
   "execution_count": 1,
   "metadata": {
    "execution": {
     "iopub.execute_input": "2025-02-04T10:43:29.911642Z",
     "iopub.status.busy": "2025-02-04T10:43:29.911227Z",
     "iopub.status.idle": "2025-02-04T10:43:34.639827Z",
     "shell.execute_reply": "2025-02-04T10:43:34.638417Z",
     "shell.execute_reply.started": "2025-02-04T10:43:29.911605Z"
    },
    "trusted": true
   },
   "outputs": [
    {
     "name": "stdout",
     "output_type": "stream",
     "text": [
      "2.5.1+cu121\n",
      "12.1\n"
     ]
    }
   ],
   "source": [
    "import torch\n",
    "print(torch.__version__)\n",
    "print(torch.version.cuda)  # Check CUDA version (if using GPU)\n",
    "# 2.5.1+cu121\n",
    "# 12.1"
   ]
  },
  {
   "cell_type": "code",
   "execution_count": 2,
   "metadata": {
    "execution": {
     "iopub.execute_input": "2025-02-06T16:56:18.973370Z",
     "iopub.status.busy": "2025-02-06T16:56:18.973003Z",
     "iopub.status.idle": "2025-02-06T16:56:19.705179Z",
     "shell.execute_reply": "2025-02-06T16:56:19.704185Z",
     "shell.execute_reply.started": "2025-02-06T16:56:18.973339Z"
    },
    "trusted": true
   },
   "outputs": [],
   "source": [
    "import os\n",
    "\n",
    "import numpy as np\n",
    "\n",
    "# Image processing\n",
    "import tifffile\n",
    "import matplotlib.pyplot as plt\n",
    "# from PIL import Image\n",
    "# import cv2\n"
   ]
  },
  {
   "cell_type": "code",
   "execution_count": 5,
   "metadata": {
    "execution": {
     "iopub.execute_input": "2025-02-06T16:59:28.723424Z",
     "iopub.status.busy": "2025-02-06T16:59:28.723080Z",
     "iopub.status.idle": "2025-02-06T16:59:28.729317Z",
     "shell.execute_reply": "2025-02-06T16:59:28.728260Z",
     "shell.execute_reply.started": "2025-02-06T16:59:28.723397Z"
    },
    "trusted": true
   },
   "outputs": [
    {
     "name": "stdout",
     "output_type": "stream",
     "text": [
      "/Users/thuang/Documents/Personal/code/prostate-cancer-grade-assessment\n"
     ]
    }
   ],
   "source": [
    "WORKING_DIR = \"/Users/thuang/Documents/Personal/code/prostate-cancer-grade-assessment\"\n",
    "# /kaggle/working\n",
    "\n",
    "os.chdir(WORKING_DIR)\n",
    "print(os.getcwd())\n",
    "\n",
    "DATA_ROOT_PATH = \"data\"\n",
    "# \"/kaggle/input/prostate-cancer-grade-assessment\""
   ]
  },
  {
   "cell_type": "markdown",
   "metadata": {},
   "source": [
    "### Questions\n",
    "* Data quality, distribution, outliers?\n",
    "* What to use? What to disgard? What/how to preprocess/augment?\n",
    "* Valid sub-sample to download and test initial models on?"
   ]
  },
  {
   "cell_type": "markdown",
   "metadata": {},
   "source": [
    "#### Whole Sliding Image(WSI)\n",
    "*"
   ]
  },
  {
   "cell_type": "markdown",
   "metadata": {},
   "source": [
    "#### Image size, resolution, tiff stack\n",
    "* Size, resolution varies?"
   ]
  },
  {
   "cell_type": "code",
   "execution_count": 6,
   "metadata": {
    "execution": {
     "iopub.execute_input": "2025-02-06T16:59:32.873547Z",
     "iopub.status.busy": "2025-02-06T16:59:32.873203Z",
     "iopub.status.idle": "2025-02-06T16:59:32.923497Z",
     "shell.execute_reply": "2025-02-06T16:59:32.922429Z",
     "shell.execute_reply.started": "2025-02-06T16:59:32.873518Z"
    },
    "trusted": true
   },
   "outputs": [
    {
     "name": "stdout",
     "output_type": "stream",
     "text": [
      "(22123, 1) (22123, 1) TiffTag 296 ResolutionUnit @43318386 SHORT @43318398 = CENTIMETER\n"
     ]
    }
   ],
   "source": [
    "filename = os.path.join(DATA_ROOT_PATH, \"train_images/0005f7aaab2800f6170c399693a96917.tiff\")\n",
    "\n",
    "with tifffile.TiffFile(filename) as tiff:\n",
    "    page = tiff.pages[0]  # Access the first page of the TIFF file\n",
    "    width, height = page.shape[:2]\n",
    "    dpi_x, dpi_y = page.tags[282].value, page.tags[283].value  # XResolution & YResolution\n",
    "    dpi_unit = page.tags[296]\n",
    "print(dpi_x, dpi_y, dpi_unit)"
   ]
  },
  {
   "cell_type": "markdown",
   "metadata": {},
   "source": [
    "#### Visualize image examples to inspect"
   ]
  },
  {
   "cell_type": "code",
   "execution_count": null,
   "metadata": {
    "trusted": true
   },
   "outputs": [],
   "source": []
  }
 ],
 "metadata": {
  "kaggle": {
   "accelerator": "none",
   "dataSources": [
    {
     "databundleVersionId": 1126921,
     "sourceId": 18647,
     "sourceType": "competition"
    }
   ],
   "dockerImageVersionId": 30839,
   "isGpuEnabled": false,
   "isInternetEnabled": true,
   "language": "python",
   "sourceType": "notebook"
  },
  "kernelspec": {
   "display_name": "venv",
   "language": "python",
   "name": "python3"
  },
  "language_info": {
   "codemirror_mode": {
    "name": "ipython",
    "version": 3
   },
   "file_extension": ".py",
   "mimetype": "text/x-python",
   "name": "python",
   "nbconvert_exporter": "python",
   "pygments_lexer": "ipython3",
   "version": "3.11.6"
  }
 },
 "nbformat": 4,
 "nbformat_minor": 4
}
